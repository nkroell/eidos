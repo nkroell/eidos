{
 "cells": [
  {
   "cell_type": "code",
   "execution_count": 15,
   "metadata": {},
   "outputs": [],
   "source": [
    "import numpy as np\n",
    "import pandas as pd\n",
    "pd.set_option('display.max_columns', None)\n",
    "pd.set_option('display.width', 1000)\n",
    "import matplotlib.pyplot as plt\n",
    "from skimage import draw\n",
    "\n",
    "\n",
    "import sys\n",
    "import os.path\n",
    "sys.path.append(\n",
    "    os.path.abspath(os.path.join(os.path.dirname(\"shape_measurements_2d.py\"), os.path.pardir)))\n",
    "\n",
    "from shape_measurements_2d import extract_all_shape_measurements_2d"
   ]
  },
  {
   "cell_type": "code",
   "execution_count": 16,
   "metadata": {},
   "outputs": [],
   "source": [
    "circle_radius = 100\n",
    "\n",
    "circle_idx = draw.circle(200,200, circle_radius)\n",
    "\n",
    "bw = np.zeros((400,400), dtype=\"bool\")\n",
    "\n",
    "bw[circle_idx] = True"
   ]
  },
  {
   "cell_type": "code",
   "execution_count": 17,
   "metadata": {},
   "outputs": [
    {
     "data": {
      "text/plain": [
       "<matplotlib.image.AxesImage at 0x222f7198ec8>"
      ]
     },
     "execution_count": 17,
     "metadata": {},
     "output_type": "execute_result"
    },
    {
     "data": {
      "image/png": "[encoded data removed]",
      "text/plain": [
       "<Figure size 432x288 with 1 Axes>"
      ]
     },
     "metadata": {
      "needs_background": "light"
     },
     "output_type": "display_data"
    }
   ],
   "source": [
    "plt.imshow(bw)"
   ]
  },
  {
   "cell_type": "code",
   "execution_count": 18,
   "metadata": {},
   "outputs": [],
   "source": [
    "df = extract_all_shape_measurements_2d(bw)"
   ]
  },
  {
   "cell_type": "code",
   "execution_count": 19,
   "metadata": {},
   "outputs": [
    {
     "data": {
      "text/html": [
       "<div>\n",
       "<style scoped>\n",
       "    .dataframe tbody tr th:only-of-type {\n",
       "        vertical-align: middle;\n",
       "    }\n",
       "\n",
       "    .dataframe tbody tr th {\n",
       "        vertical-align: top;\n",
       "    }\n",
       "\n",
       "    .dataframe thead th {\n",
       "        text-align: right;\n",
       "    }\n",
       "</style>\n",
       "<table border=\"1\" class=\"dataframe\">\n",
       "  <thead>\n",
       "    <tr style=\"text-align: right;\">\n",
       "      <th></th>\n",
       "      <th>perimeter</th>\n",
       "      <th>convex_perimeter</th>\n",
       "      <th>area</th>\n",
       "      <th>filled_area</th>\n",
       "      <th>convex_area</th>\n",
       "      <th>major_axis_length</th>\n",
       "      <th>minor_axis_length</th>\n",
       "      <th>max_inclosing_circle_radius</th>\n",
       "      <th>min_enclosing_circle_radius</th>\n",
       "      <th>circumscribing_circle_radius</th>\n",
       "      <th>inscribing_circle_radius</th>\n",
       "      <th>x_max</th>\n",
       "      <th>y_max</th>\n",
       "      <th>width_min_bb</th>\n",
       "      <th>height_min_bb</th>\n",
       "      <th>area_equal_diameter</th>\n",
       "      <th>perimeter_equal_diameter</th>\n",
       "      <th>geodeticlength</th>\n",
       "      <th>thickness</th>\n",
       "      <th>n_erosions_binary_image</th>\n",
       "      <th>n_erosions_complement</th>\n",
       "      <th>fractal_dimension_boxcounting_method</th>\n",
       "      <th>max_feret</th>\n",
       "      <th>min_feret</th>\n",
       "      <th>median_feret</th>\n",
       "      <th>mean_feret</th>\n",
       "      <th>mode_feret</th>\n",
       "      <th>std_feret</th>\n",
       "      <th>max_martin</th>\n",
       "      <th>min_martin</th>\n",
       "      <th>median_martin</th>\n",
       "      <th>mean_martin</th>\n",
       "      <th>mode_martin</th>\n",
       "      <th>std_martin</th>\n",
       "      <th>max_nassenstein</th>\n",
       "      <th>min_nassenstein</th>\n",
       "      <th>median_nassenstein</th>\n",
       "      <th>mean_nassenstein</th>\n",
       "      <th>mode_nassenstein</th>\n",
       "      <th>std_nassenstein</th>\n",
       "      <th>max_max_chords</th>\n",
       "      <th>min_max_chords</th>\n",
       "      <th>median_max_chords</th>\n",
       "      <th>mean_max_chords</th>\n",
       "      <th>mode_max_chords</th>\n",
       "      <th>std_max_chords</th>\n",
       "      <th>max_all_chords</th>\n",
       "      <th>min_all_chords</th>\n",
       "      <th>median_all_chords</th>\n",
       "      <th>mean_all_chords</th>\n",
       "      <th>mode_all_chords</th>\n",
       "      <th>std_all_chords</th>\n",
       "    </tr>\n",
       "  </thead>\n",
       "  <tbody>\n",
       "    <tr>\n",
       "      <th>0</th>\n",
       "      <td>658.440692</td>\n",
       "      <td>658.440692</td>\n",
       "      <td>31397</td>\n",
       "      <td>31397</td>\n",
       "      <td>31545</td>\n",
       "      <td>199.939909</td>\n",
       "      <td>199.939909</td>\n",
       "      <td>95.500183</td>\n",
       "      <td>99.9851</td>\n",
       "      <td>99.984999</td>\n",
       "      <td>99.0</td>\n",
       "      <td>201</td>\n",
       "      <td>201</td>\n",
       "      <td>198.0</td>\n",
       "      <td>198.0</td>\n",
       "      <td>199.939746</td>\n",
       "      <td>209.588182</td>\n",
       "      <td>164.610173</td>\n",
       "      <td>164.610173</td>\n",
       "      <td>101</td>\n",
       "      <td>2</td>\n",
       "      <td>1.015427</td>\n",
       "      <td>201</td>\n",
       "      <td>199</td>\n",
       "      <td>201.0</td>\n",
       "      <td>201.0</td>\n",
       "      <td>201</td>\n",
       "      <td>0.663325</td>\n",
       "      <td>201</td>\n",
       "      <td>199</td>\n",
       "      <td>200.0</td>\n",
       "      <td>200.0</td>\n",
       "      <td>200</td>\n",
       "      <td>0.632456</td>\n",
       "      <td>201</td>\n",
       "      <td>197</td>\n",
       "      <td>199.5</td>\n",
       "      <td>199.5</td>\n",
       "      <td>200</td>\n",
       "      <td>1.16619</td>\n",
       "      <td>201</td>\n",
       "      <td>199</td>\n",
       "      <td>200.5</td>\n",
       "      <td>200.5</td>\n",
       "      <td>201</td>\n",
       "      <td>0.663325</td>\n",
       "      <td>201.0</td>\n",
       "      <td>1.0</td>\n",
       "      <td>171.0</td>\n",
       "      <td>171.0</td>\n",
       "      <td>199.0</td>\n",
       "      <td>52.924098</td>\n",
       "    </tr>\n",
       "  </tbody>\n",
       "</table>\n",
       "</div>"
      ],
      "text/plain": [
       "    perimeter  convex_perimeter   area  filled_area  convex_area  major_axis_length  minor_axis_length  max_inclosing_circle_radius  min_enclosing_circle_radius  circumscribing_circle_radius  inscribing_circle_radius  x_max  y_max  width_min_bb  height_min_bb  area_equal_diameter  perimeter_equal_diameter  geodeticlength   thickness  n_erosions_binary_image  n_erosions_complement  fractal_dimension_boxcounting_method  max_feret  min_feret  median_feret  mean_feret  mode_feret  std_feret  max_martin  min_martin  median_martin  mean_martin  mode_martin  std_martin  max_nassenstein  min_nassenstein  median_nassenstein  mean_nassenstein  mode_nassenstein  std_nassenstein  max_max_chords  min_max_chords  median_max_chords  mean_max_chords  mode_max_chords  std_max_chords  max_all_chords  min_all_chords  median_all_chords  mean_all_chords  mode_all_chords  std_all_chords\n",
       "0  658.440692        658.440692  31397        31397        31545         199.939909         199.939909                    95.500183                      99.9851                     99.984999                      99.0    201    201         198.0          198.0           199.939746                209.588182      164.610173  164.610173                      101                      2                              1.015427        201        199         201.0       201.0         201   0.663325         201         199          200.0        200.0          200    0.632456              201              197               199.5             199.5               200          1.16619             201             199              200.5            200.5              201        0.663325           201.0             1.0              171.0            171.0            199.0       52.924098"
      ]
     },
     "execution_count": 19,
     "metadata": {},
     "output_type": "execute_result"
    }
   ],
   "source": [
    "df"
   ]
  },
  {
   "cell_type": "code",
   "execution_count": null,
   "metadata": {},
   "outputs": [],
   "source": []
  }
 ],
 "metadata": {
  "kernelspec": {
   "display_name": "Python 3",
   "language": "python",
   "name": "python3"
  },
  "language_info": {
   "codemirror_mode": {
    "name": "ipython",
    "version": 3
   },
   "file_extension": ".py",
   "mimetype": "text/x-python",
   "name": "python",
   "nbconvert_exporter": "python",
   "pygments_lexer": "ipython3",
   "version": "3.7.6"
  }
 },
 "nbformat": 4,
 "nbformat_minor": 4
}
