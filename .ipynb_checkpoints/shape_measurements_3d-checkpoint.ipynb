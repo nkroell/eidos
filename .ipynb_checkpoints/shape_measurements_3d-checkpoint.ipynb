{
 "cells": [
  {
   "cell_type": "code",
   "execution_count": 13,
   "metadata": {},
   "outputs": [],
   "source": [
    "\n",
    "import numpy as np\n",
    "import cv2\n",
    "from skimage import measure, morphology, transform\n",
    "from scipy import spatial, stats\n",
    "import matplotlib.pyplot as plt\n",
    "import matplotlib\n",
    "plt.rcParams['image.cmap'] = 'gray'\n",
    "import pandas as pd\n",
    "from pathlib import Path"
   ]
  },
  {
   "cell_type": "code",
   "execution_count": 34,
   "metadata": {},
   "outputs": [],
   "source": [
    "threshold_3d_mm = 1.5 #mm"
   ]
  },
  {
   "cell_type": "code",
   "execution_count": 50,
   "metadata": {},
   "outputs": [],
   "source": [
    "def read_csv(filename):\n",
    "    try:\n",
    "        img = np.genfromtxt(filename, delimiter=\",\")\n",
    "    except:\n",
    "        print(\"ERROR while loading {:}\".format(filename))\n",
    "        return None\n",
    "    return img\n",
    "\n",
    "def read_spatial_resolution(fullfile):\n",
    "    with open(fullfile, 'r') as f:\n",
    "        spatial_resolution = float(f.read())\n",
    "        \n",
    "    return spatial_resolution"
   ]
  },
  {
   "cell_type": "code",
   "execution_count": 59,
   "metadata": {},
   "outputs": [],
   "source": [
    "path_extracted_particles = Path(r\"\\\\IAR-SLAB\\Sensorlabor\\Messdaten\\3D\\Kroell\\Testdaten_Softwareentwicklung\\cubes_10x10x10_selection\\extracted_particles\")\n",
    "fullfile_img_3d = path_extracted_particles / \"000000000.csv\"\n",
    "fullfile_spatial_resolution = path_extracted_particles / \"spatial_resolution.txt\"\n",
    "img_3d_org = read_csv(fullfile_img_3d)\n",
    "bw_org = img_3d_org > threshold_3d_mm\n",
    "df = pd.DataFrame(measure.regionprops_table(measure.label(bw)))\n",
    "spatial_resolution = read_spatial_resolution(fullfile_spatial_resolution)\n",
    "img_3d = np.copy(img_3d_org[df['bbox-0'][0]:df['bbox-2'][0], df['bbox-1'][0]:df['bbox-3'][0]])\n",
    "bw_3d = img_3d > threshold_3d_mm\n",
    "img_3d[~bw_3d] = 0"
   ]
  },
  {
   "cell_type": "code",
   "execution_count": 60,
   "metadata": {},
   "outputs": [],
   "source": [
    "img_3d_equalspace = img_3d / spatial_resolution"
   ]
  },
  {
   "cell_type": "code",
   "execution_count": 63,
   "metadata": {},
   "outputs": [],
   "source": [
    "def calc_volume(img_3d_equalspace, spatial_resolution):\n",
    "    return np.sum(img_3d_equalspace.ravel()) * spatial_resolution**3"
   ]
  },
  {
   "cell_type": "code",
   "execution_count": null,
   "metadata": {},
   "outputs": [],
   "source": []
  }
 ],
 "metadata": {
  "kernelspec": {
   "display_name": "Python 3",
   "language": "python",
   "name": "python3"
  },
  "language_info": {
   "codemirror_mode": {
    "name": "ipython",
    "version": 3
   },
   "file_extension": ".py",
   "mimetype": "text/x-python",
   "name": "python",
   "nbconvert_exporter": "python",
   "pygments_lexer": "ipython3",
   "version": "3.8.3"
  }
 },
 "nbformat": 4,
 "nbformat_minor": 4
}
